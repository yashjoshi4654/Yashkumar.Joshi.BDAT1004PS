{
 "cells": [
  {
   "cell_type": "markdown",
   "id": "a10cd65e",
   "metadata": {},
   "source": [
    "Problem Set 1"
   ]
  },
  {
   "cell_type": "markdown",
   "id": "35b56208",
   "metadata": {},
   "source": [
    "Question 1 : What data type is each of the following"
   ]
  },
  {
   "cell_type": "code",
   "execution_count": 23,
   "id": "a92ecc5d",
   "metadata": {},
   "outputs": [
    {
     "name": "stdout",
     "output_type": "stream",
     "text": [
      "System.Int32\n",
      "System.Double\n",
      "System.Boolean\n",
      "System.String\n",
      "System.Int32\n",
      "System.String\n",
      "System.Int32\n",
      "System.Int32\n",
      "System.Boolean\n",
      "System.Double\n"
     ]
    }
   ],
   "source": [
    "// 5\n",
    "Console.WriteLine(5.GetType());\n",
    "\n",
    "// 5.0\n",
    "Console.WriteLine((5.0).GetType());\n",
    "\n",
    "// 5>1\n",
    "Console.WriteLine((5>1).GetType());\n",
    "\n",
    "// \"5\"\n",
    "Console.WriteLine((\"5\").GetType());\n",
    "\n",
    "// 5*2\n",
    "Console.WriteLine((5*2).GetType());\n",
    "\n",
    "// \"5\" * 2 Pi\n",
    "//Console.WriteLine((\"5\"*2).GetType());\n",
    "//Getting Error That Operator '*' cannot be applied to operands of type string and int.\n",
    "\n",
    "// \"5\" + \"2\"\n",
    "Console.WriteLine((\"5\"+\"2\").GetType());\n",
    "\n",
    "// 5/2\n",
    "Console.WriteLine((5/2).GetType());\n",
    "\n",
    "// 5%2\n",
    "Console.WriteLine((5%2).GetType());\n",
    "\n",
    "// {5,2,1}\n",
    "//Console.WriteLine({5,2,1}.GetType());\n",
    "//Getting Error After Running This Statement\n",
    "\n",
    "// 5==3\n",
    "Console.WriteLine((5==3).GetType());\n",
    "\n",
    "// Pi (The Number) for getting value of pie,we have to use math.PI\n",
    "Console.WriteLine(Math.PI.GetType());\n",
    "\n"
   ]
  },
  {
   "cell_type": "markdown",
   "id": "02658797",
   "metadata": {},
   "source": [
    "Question 2 : Write(and evaluate)C# Expressions that answere given Questions :"
   ]
  },
  {
   "cell_type": "code",
   "execution_count": 42,
   "id": "c3902986",
   "metadata": {},
   "outputs": [
    {
     "name": "stdout",
     "output_type": "stream",
     "text": [
      "34\n",
      "Yes The Given String Contains The string 'ice'\n",
      "(z) is Longest : Supercalifragilisticexpialidocious\n",
      "Bartok\n",
      "Buxtehude\n"
     ]
    }
   ],
   "source": [
    "// a). How many letters are there in 'Supercalifragilisticexpialidocious'?\n",
    " string x = \"Supercalifragilisticexpialidocious\";\n",
    " Console.WriteLine(x.Length);\n",
    " \n",
    "// b). Does 'Supercalifragilisticexpialidocious' contain 'ice' as a substring?\n",
    " string y = \"ice\";\n",
    " if(x.Contains(y)){\n",
    "     Console.WriteLine(\"Yes The Given String Contains The string 'ice'\");\n",
    " }\n",
    " else{\n",
    "     Console.WriteLine(\"NO The Given String Does NOT Contains the given string 'ice'\");\n",
    " }\n",
    "\n",
    " // c). Which of the following words is the longest: Supercalifragilisticexpialidocious, Honorificabilitudinitatibus, or Bababadalgharaghtakamminarronnkonn?\n",
    "\n",
    "string z = \"Supercalifragilisticexpialidocious\";\n",
    "string a = \"Honorificabilitudinitatibus\";\n",
    "string b = \"Honorificabilitudinitatibus\";\n",
    "if(z.Length>a.Length & z.Length>b.Length){\n",
    "    Console.WriteLine(\"(z) is Longest : \"+z);\n",
    "}\n",
    "else if(a.Length>z.Length & a.Length>b.Length){\n",
    "    Console.WriteLine(\"(a) is Longest : \"+a);\n",
    "}\n",
    "else{\n",
    "    Console.WriteLine(\"(b) is Longest : \"+b);\n",
    "}\n",
    "\n",
    "//d). Which composer comes first in the dictionary: 'Berlioz', 'Borodin', 'Brian','Bartok', 'Bellini', 'Buxtehude', 'Bernstein'.\n",
    "string[] names = new string[]{\n",
    "    \"Berlioz\", \"Borodin\", \"Brian\",\"Bartok\", \"Bellini\", \"Buxtehude\", \"Bernstein\"\n",
    "};\n",
    "Array.Sort(names);\n",
    "Console.WriteLine(names[0]);\n",
    "Console.WriteLine(names[6]);"
   ]
  },
  {
   "cell_type": "markdown",
   "id": "0bd74d94",
   "metadata": {},
   "source": [
    "Question 3 : Implement function triangleArea(a,b,c) that takes as input the lengths of the 3\n",
    "            sides of a triangle and returns the area of the triangle. By Heron's formula, the area\n",
    "            of a triangle with side lengths a, b, and c is Square Root of s(s − a)(s −b)(s −c), where\n",
    "            s = (a + b + c)/2.\n",
    "            >>> triangleArea(2,2,2)\n",
    "            1.7320508075688772\n"
   ]
  },
  {
   "cell_type": "code",
   "execution_count": 14,
   "id": "6442aa73",
   "metadata": {},
   "outputs": [
    {
     "name": "stdout",
     "output_type": "stream",
     "text": [
      "Area of Triangle =1.7320508075688772\r\n"
     ]
    }
   ],
   "source": [
    "public double triangleArea(double a,double b,double c){\n",
    "\n",
    "        double s = (a+b+c)/2;\n",
    "        return Math.Sqrt(s*(s-a)*(s-b)*(s-c));\n",
    "        \n",
    "}\n",
    "double a = 2;\n",
    "double b = 2;\n",
    "double c = 2;\n",
    "Console.WriteLine(\"Area of Triangle =\" +triangleArea(a,b,c));\n"
   ]
  },
  {
   "cell_type": "markdown",
   "id": "429f25e6",
   "metadata": {},
   "source": [
    "Question 4 :Write a program in C# Sharp to separate odd and even integers in separate arrays. "
   ]
  },
  {
   "cell_type": "code",
   "execution_count": 23,
   "id": "bcecdc47",
   "metadata": {},
   "outputs": [
    {
     "name": "stdout",
     "output_type": "stream",
     "text": [
      "Input the number of elements to be stored in the array :\n",
      "element 0 - 25\n",
      "element 1 - 47\n",
      "element 2 - 42\n",
      "element 3 - 56\n",
      "element 4 - 32\n",
      "\n",
      "The Even elements are: \n",
      "\n",
      "42\n",
      "56\n",
      "32\n",
      "\n",
      "The Odd elements are: \n",
      "\n",
      "25\n",
      "47\n",
      "\n",
      "\n",
      "\n"
     ]
    }
   ],
   "source": [
    "        int[] arr1= new int[10];\n",
    "        int[] arr2= new int[10];\n",
    "        int[] arr3= new int[5]{25,47,42,56,32};\n",
    "        int a,b=0,c=0;\n",
    "        Console.WriteLine(\"Input the number of elements to be stored in the array :\");\n",
    "        for(a=0;a<5;a++){\n",
    "            Console.WriteLine(\"element \"+a+\" - \"+arr3[a]);\n",
    "        }\n",
    "        for(a=0;a<5;a++){\n",
    "         if(arr3[a]%2==0){\n",
    "             arr1[b]=arr3[a];\n",
    "             b++;\n",
    "         }\n",
    "            else{\n",
    "                arr2[c]=arr3[a];\n",
    "                c++;\n",
    "            }\n",
    "        }\n",
    "        Console.WriteLine(\"\\nThe Even elements are: \\n\");\n",
    "        for(a=0;a<b;a++){\n",
    "            Console.WriteLine(arr1[a]);\n",
    "        }\n",
    "        Console.WriteLine(\"\\nThe Odd elements are: \\n\");\n",
    "        for(a=0;a<c;a++){\n",
    "            Console.WriteLine(arr2[a]);\n",
    "        } \n",
    "        Console.WriteLine(\"\\n\\n\");\n",
    "    \n"
   ]
  },
  {
   "cell_type": "markdown",
   "id": "d9f9332d",
   "metadata": {},
   "source": [
    "Question 5 :\n"
   ]
  },
  {
   "cell_type": "code",
   "execution_count": 36,
   "id": "52ee3f77",
   "metadata": {},
   "outputs": [],
   "source": [
    "//a)Write a function inside(x,y,x1,y1,x2,y2) that returns True or False\n",
    "    //dependingonwhetherthepoint(x,y)liesintherectanglewithlowerleft\n",
    "    //corner (x1,y1) and upper right corner (x2,y2).\n",
    "    //>>> inside(1,1,0,0,2,3)\n",
    "    //True\n",
    "    //>>> inside(-1,-1,0,0,2,3)\n",
    "    //False\n",
    "\n",
    "    public bool inside(double x,double y,double x1,double y1,double x2,double y2){\n",
    "        if((x>x1 & x<x2) & (y>y1 & y<x2)){\n",
    "            return true;\n",
    "        }\n",
    "        else{\n",
    "            return false;\n",
    "        }\n",
    "    }\n",
    "\n",
    "//b. Use function inside()from part a. to write an expression that tests whether\n",
    "    //the point (1,1) lies in both of the following rectangles: one with lower left\n",
    "    //corner (0.3, 0.5) and upper right corner (1.1, 0.7) and the other with lower\n",
    "    //left corner (0.5, 0.2) and upper right corner (1.1, 2)."
   ]
  },
  {
   "cell_type": "code",
   "execution_count": 33,
   "id": "f9559261",
   "metadata": {},
   "outputs": [
    {
     "data": {
      "text/plain": [
       "True"
      ]
     },
     "execution_count": 33,
     "metadata": {},
     "output_type": "execute_result"
    }
   ],
   "source": [
    "inside(1,1,0,0,2,3)"
   ]
  },
  {
   "cell_type": "code",
   "execution_count": 34,
   "id": "49e1f326",
   "metadata": {},
   "outputs": [
    {
     "data": {
      "text/plain": [
       "False"
      ]
     },
     "execution_count": 34,
     "metadata": {},
     "output_type": "execute_result"
    }
   ],
   "source": [
    "inside(-1,-1,0,0,2,3)"
   ]
  },
  {
   "cell_type": "code",
   "execution_count": 37,
   "id": "3ff7d05a",
   "metadata": {},
   "outputs": [
    {
     "data": {
      "text/plain": [
       "False"
      ]
     },
     "execution_count": 37,
     "metadata": {},
     "output_type": "execute_result"
    }
   ],
   "source": [
    "inside(1,1,.3,1.1,.5,2)"
   ]
  },
  {
   "cell_type": "code",
   "execution_count": null,
   "id": "9b859666",
   "metadata": {},
   "outputs": [],
   "source": []
  }
 ],
 "metadata": {
  "kernelspec": {
   "display_name": ".NET (C#)",
   "language": "C#",
   "name": ".net-csharp"
  },
  "language_info": {
   "file_extension": ".cs",
   "mimetype": "text/x-csharp",
   "name": "C#",
   "pygments_lexer": "csharp",
   "version": "8.0"
  }
 },
 "nbformat": 4,
 "nbformat_minor": 5
}
