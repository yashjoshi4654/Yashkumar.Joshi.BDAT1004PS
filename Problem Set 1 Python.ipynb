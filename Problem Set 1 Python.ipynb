{
 "cells": [
  {
   "cell_type": "markdown",
   "id": "84534a72",
   "metadata": {},
   "source": [
    "Question 6). You can turn a word into pig-Latin using the following two rules(simplified):\n",
    "• If the word starts with a consonant, move that letter to the end and append\n",
    "'ay'. For example, 'happy' becomes 'appyhay' and 'pencil' becomes 'encilpay'.\n",
    "• If the word starts with a vowel, simply append 'way' to the end of the word.\n",
    "For example, 'enter' becomes 'enterway' and 'other' becomes 'otherway' . For\n",
    "our purposes, there are 5 vowels: a, e, i, o, u (so we count y as a consonant).\n",
    "Write a function pig() that takes a word (i.e., a string) as input and returns its pigLatin form. Your function should still work if the input word contains upper case\n",
    "characters. Your output should always be lower case however.\n",
    "pig('happy')\n",
    "'appyhay'\n",
    "pig('Enter')\n",
    "'enterway'"
   ]
  },
  {
   "cell_type": "code",
   "execution_count": 30,
   "id": "0cf98ced",
   "metadata": {},
   "outputs": [
    {
     "name": "stdout",
     "output_type": "stream",
     "text": [
      "enteryay\n",
      "appyhay\n"
     ]
    }
   ],
   "source": [
    "vowels = ('a','e','i','o','u')\n",
    "\n",
    "def pig(word):\n",
    "    \n",
    "    \n",
    "        if(word[0] in vowels):\n",
    "            print(word+'yay')\n",
    "        else:\n",
    "            print(word[1:5]+word[0]+'ay')\n",
    "\n",
    "pig('enter')\n",
    "pig('happy')\n",
    "            \n",
    "    "
   ]
  },
  {
   "cell_type": "markdown",
   "id": "beb9742c",
   "metadata": {},
   "source": [
    "Question 7) File bloodtype1.txt records blood-types of patients (A, B, AB, O or OO) at a clinic.\n",
    "Write a function bldcount() that reads the file with name name and reports (i.e.,\n",
    "prints) how many patients there are in each bloodtype.\n",
    "bldcount('bloodtype.txt')\n",
    "There are 10 patients of blood type A. \n",
    "There is one patient of blood type B.\n",
    "There are 10 patients of blood type AB.\n",
    "There are 12 patients of blood type O. "
   ]
  },
  {
   "cell_type": "code",
   "execution_count": 44,
   "id": "79c19f94",
   "metadata": {},
   "outputs": [
    {
     "name": "stdout",
     "output_type": "stream",
     "text": [
      "There are15patient of blood typeA.\n",
      "There is one patient of blood type BB.\n",
      "There are13patient of blood typeAB.\n",
      "There are15patient of blood typeO.\n",
      "There are 0 patients of blood typeOO.\n"
     ]
    }
   ],
   "source": [
    "def bldcount(fname): \n",
    "    fo = open(fname,\"r\")\n",
    "    data = fo.read()\n",
    "    fo.close()\n",
    "    data = data.split()\n",
    "    bloodtype = ['A' , 'B' , 'AB' , 'O' , 'OO']\n",
    "    for a in bloodtype:\n",
    "        if data.count(a) == 0:\n",
    "            print('There are 0 patients of blood type'+a+'.')\n",
    "        elif data.count(a)==1:\n",
    "            print('There is one patient of blood type B'+a+'.')\n",
    "        else:\n",
    "            print('There are'+str(data.count(a))+'patient of blood type'+a+'.')\n",
    "    fo.close()\n",
    "    \n",
    "bldcount('bloodType1.txt')"
   ]
  },
  {
   "cell_type": "markdown",
   "id": "babf5c97",
   "metadata": {},
   "source": [
    "Question 8) Write a function curconv() that takes as input:\n",
    "1. a currency represented using a string (e.g., 'JPY' for the Japanese Yen or'EUR' for the Euro)\n",
    "2. an amount and then converts and returns the amount in US dollars."
   ]
  },
  {
   "cell_type": "code",
   "execution_count": 55,
   "id": "a05239b4",
   "metadata": {},
   "outputs": [
    {
     "name": "stdout",
     "output_type": "stream",
     "text": [
      "122.96544\n",
      "1.241401\n"
     ]
    }
   ],
   "source": [
    "def curconv(cur,amt):\n",
    "    file =open('currencies.txt','r')\n",
    "    fileCon=file.readlines()\n",
    "    for lines in fileCon:\n",
    "        if cur == lines.split()[0]:\n",
    "            return float(lines.split()[1])*amt\n",
    "        \n",
    "print(curconv('EUR',100))\n",
    "print(curconv('JPY',100))"
   ]
  },
  {
   "cell_type": "markdown",
   "id": "a98e0867",
   "metadata": {},
   "source": [
    "Question 9) Each of the following will cause an exception (an error). Identify what type of\n",
    "exception each will cause."
   ]
  },
  {
   "cell_type": "code",
   "execution_count": 16,
   "id": "ac409043",
   "metadata": {},
   "outputs": [
    {
     "ename": "FileNotFoundError",
     "evalue": "[Errno 2] No such file or directory: 'fo.txt'",
     "output_type": "error",
     "traceback": [
      "\u001b[1;31m---------------------------------------------------------------------------\u001b[0m",
      "\u001b[1;31mFileNotFoundError\u001b[0m                         Traceback (most recent call last)",
      "Input \u001b[1;32mIn [16]\u001b[0m, in \u001b[0;36m<cell line: 20>\u001b[1;34m()\u001b[0m\n\u001b[0;32m      1\u001b[0m \u001b[38;5;66;03m#Trying to add incompatible variables, as in adding 6 + ‘a’\u001b[39;00m\n\u001b[0;32m      2\u001b[0m \u001b[38;5;66;03m#sum = 6 + 'a'\u001b[39;00m\n\u001b[0;32m      3\u001b[0m \u001b[38;5;66;03m#Error will be unsupported operand type(s) for +: 'int' and 'str'\u001b[39;00m\n\u001b[1;32m   (...)\u001b[0m\n\u001b[0;32m     18\u001b[0m \n\u001b[0;32m     19\u001b[0m \u001b[38;5;66;03m#Trying to open a file that does not exist, such as mistyping the file name or looking in the wrong directory.\u001b[39;00m\n\u001b[1;32m---> 20\u001b[0m fo \u001b[38;5;241m=\u001b[39m \u001b[38;5;28;43mopen\u001b[39;49m\u001b[43m(\u001b[49m\u001b[38;5;124;43m\"\u001b[39;49m\u001b[38;5;124;43mfo.txt\u001b[39;49m\u001b[38;5;124;43m\"\u001b[39;49m\u001b[43m,\u001b[49m\u001b[38;5;124;43m\"\u001b[39;49m\u001b[38;5;124;43mr\u001b[39;49m\u001b[38;5;124;43m\"\u001b[39;49m\u001b[43m)\u001b[49m\n",
      "\u001b[1;31mFileNotFoundError\u001b[0m: [Errno 2] No such file or directory: 'fo.txt'"
     ]
    }
   ],
   "source": [
    "#Trying to add incompatible variables, as in adding 6 + ‘a’\n",
    "sum = 6 + 'a\n",
    "#Error will be unsupported operand type(s) for +: 'int' and 'str'\n",
    "\n",
    "#Referring to the 12th item of a list that has only 10 items\n",
    "list = [1,2,3,4,5,6,7,8,9,10]\n",
    "print(list[11])\n",
    "# Error will be list index out of range\n",
    "\n",
    "#Using a value that is out ofrange for a function’s input, such as calling math.sqrt(-1.0)\n",
    "import math\n",
    "math.sqrt(-1.0)\n",
    "#it will give math domain error \n",
    "\n",
    "#Using an undeclared variable, such as print(x) when x has not been defined\n",
    "print(x)\n",
    "#It will give error name 'x' is not defined\n",
    "\n",
    "#Trying to open a file that does not exist, such as mistyping the file name or looking in the wrong directory.\n",
    "fo = open(\"fo.txt\",\"r\")\n",
    "#[Errno 2] No such file or directory: 'fo.txt'"
   ]
  },
  {
   "cell_type": "markdown",
   "id": "24a39a02",
   "metadata": {},
   "source": [
    "Question 10) Encryption is the process of hiding the meaning of a text by substituting letters in the\n",
    "message with other letters, according to some system. If the process is successful, no\n",
    "one but the intended recipient can understand the encrypted message. Cryptanalysis\n",
    "refers to attempts to undo the encryption, even if some details of the encryption are\n",
    "unknown (for example, if an encrypted message has been intercepted). The first step\n",
    "of cryptanalysis is often to build up a table of letter frequencies in the encrypted text.\n",
    "Assume that the string letters is already defined as\n",
    "'abcdefghijklmnopqrstuvwxyz'. Write a function called frequencies()\n",
    "that takes a string as its only parameter, and returns a list of integers, showing the\n",
    "number of times each character appears in the text. Your function may ignore any\n",
    "characters that are not in letters."
   ]
  },
  {
   "cell_type": "code",
   "execution_count": 63,
   "id": "a212b978",
   "metadata": {},
   "outputs": [
    {
     "ename": "TypeError",
     "evalue": "'list' object is not callable",
     "output_type": "error",
     "traceback": [
      "\u001b[1;31m---------------------------------------------------------------------------\u001b[0m",
      "\u001b[1;31mTypeError\u001b[0m                                 Traceback (most recent call last)",
      "Input \u001b[1;32mIn [63]\u001b[0m, in \u001b[0;36m<cell line: 3>\u001b[1;34m()\u001b[0m\n\u001b[0;32m      1\u001b[0m letters \u001b[38;5;241m=\u001b[39m \u001b[38;5;124m'\u001b[39m\u001b[38;5;124mabcdefghijklmnopqrstuvwxyz\u001b[39m\u001b[38;5;124m'\u001b[39m\n\u001b[1;32m----> 3\u001b[0m al \u001b[38;5;241m=\u001b[39m \u001b[38;5;28;43mlist\u001b[39;49m\u001b[43m(\u001b[49m\u001b[43mletters\u001b[49m\u001b[43m)\u001b[49m\n\u001b[0;32m      4\u001b[0m \u001b[38;5;28mprint\u001b[39m(al)\n\u001b[0;32m      5\u001b[0m \u001b[38;5;28;01mdef\u001b[39;00m \u001b[38;5;21mfrequencies\u001b[39m(word):\n",
      "\u001b[1;31mTypeError\u001b[0m: 'list' object is not callable"
     ]
    }
   ],
   "source": [
    "letters = 'abcdefghijklmnopqrstuvwxyz'\n",
    "\n",
    "al = list(letters)\n",
    "def frequencies(word):\n",
    "    res = []\n",
    "    if(type(word)==str):\n",
    "        sent = word.replace(' ','')\n",
    "        sent_list =list(sent)\n",
    "        for char in al:\n",
    "            crypt = sent_list.count(char)\n",
    "            res.append(crypt)\n",
    "        print(res)\n",
    "    else:\n",
    "        print(\"Please Enter String\")\n"
   ]
  },
  {
   "cell_type": "code",
   "execution_count": 66,
   "id": "d012b2e9",
   "metadata": {},
   "outputs": [
    {
     "ename": "NameError",
     "evalue": "name 'frequencies' is not defined",
     "output_type": "error",
     "traceback": [
      "\u001b[1;31m---------------------------------------------------------------------------\u001b[0m",
      "\u001b[1;31mNameError\u001b[0m                                 Traceback (most recent call last)",
      "Input \u001b[1;32mIn [66]\u001b[0m, in \u001b[0;36m<cell line: 1>\u001b[1;34m()\u001b[0m\n\u001b[1;32m----> 1\u001b[0m \u001b[43mfrequencies\u001b[49m(\u001b[38;5;124m'\u001b[39m\u001b[38;5;124mThe quick red fox got bored and went home\u001b[39m\u001b[38;5;124m'\u001b[39m)\n",
      "\u001b[1;31mNameError\u001b[0m: name 'frequencies' is not defined"
     ]
    }
   ],
   "source": [
    "frequencies('The quick red fox got bored and went home')"
   ]
  },
  {
   "cell_type": "code",
   "execution_count": 67,
   "id": "7f2e2931",
   "metadata": {},
   "outputs": [
    {
     "ename": "NameError",
     "evalue": "name 'frequencies' is not defined",
     "output_type": "error",
     "traceback": [
      "\u001b[1;31m---------------------------------------------------------------------------\u001b[0m",
      "\u001b[1;31mNameError\u001b[0m                                 Traceback (most recent call last)",
      "Input \u001b[1;32mIn [67]\u001b[0m, in \u001b[0;36m<cell line: 1>\u001b[1;34m()\u001b[0m\n\u001b[1;32m----> 1\u001b[0m \u001b[43mfrequencies\u001b[49m(\u001b[38;5;124m'\u001b[39m\u001b[38;5;124mapple\u001b[39m\u001b[38;5;124m'\u001b[39m)\n",
      "\u001b[1;31mNameError\u001b[0m: name 'frequencies' is not defined"
     ]
    }
   ],
   "source": [
    "frequencies('apple')"
   ]
  },
  {
   "cell_type": "code",
   "execution_count": null,
   "id": "b257db08",
   "metadata": {},
   "outputs": [],
   "source": []
  }
 ],
 "metadata": {
  "kernelspec": {
   "display_name": "Python 3 (ipykernel)",
   "language": "python",
   "name": "python3"
  },
  "language_info": {
   "codemirror_mode": {
    "name": "ipython",
    "version": 3
   },
   "file_extension": ".py",
   "mimetype": "text/x-python",
   "name": "python",
   "nbconvert_exporter": "python",
   "pygments_lexer": "ipython3",
   "version": "3.9.12"
  }
 },
 "nbformat": 4,
 "nbformat_minor": 5
}
